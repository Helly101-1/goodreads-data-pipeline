{
 "cells": [
  {
   "cell_type": "markdown",
   "id": "4eb26fbd",
   "metadata": {},
   "source": [
    "# Goodreads Review Sentiment Pipeline (Sample Rebuild)\n",
    "\n",
    "This is a simplified reconstruction of the PySpark pipeline originally built and tested on GCP Dataproc. The notebook simulates key stages using pandas and sklearn for demonstration purposes."
   ]
  },
  {
   "cell_type": "code",
   "execution_count": null,
   "id": "db58bec2",
   "metadata": {},
   "outputs": [],
   "source": [
    "import pandas as pd\n",
    "import numpy as np\n",
    "from sklearn.feature_extraction.text import TfidfVectorizer\n",
    "from sklearn.linear_model import LogisticRegression\n",
    "from sklearn.model_selection import train_test_split\n",
    "from sklearn.metrics import roc_auc_score, roc_curve\n",
    "import matplotlib.pyplot as plt"
   ]
  },
  {
   "cell_type": "markdown",
   "id": "9b8fc166",
   "metadata": {},
   "source": [
    "## 📄 Sample Data"
   ]
  },
  {
   "cell_type": "code",
   "execution_count": null,
   "id": "56414110",
   "metadata": {},
   "outputs": [],
   "source": [
    "# Simulated sample review data\n",
    "data = {\n",
    "    'review_text': [\n",
    "        'Loved this book, amazing story and characters!',\n",
    "        'Not great. Very slow and boring.',\n",
    "        'Fantastic read, highly recommend it!',\n",
    "        'Terrible book. Would not read again.',\n",
    "        'An okay story, but not very engaging.'\n",
    "    ],\n",
    "    'n_votes': [10, 2, 15, 1, 3],\n",
    "    'n_comments': [2, 0, 5, 1, 1],\n",
    "    'average_rating': [4.5, 2.3, 4.7, 1.8, 3.0],\n",
    "    'liked': [1, 0, 1, 0, 0]  # 1 = liked (rating >= 4), 0 = disliked\n",
    "}\n",
    "df = pd.DataFrame(data)\n",
    "df.head()"
   ]
  },
  {
   "cell_type": "markdown",
   "id": "095f7d64",
   "metadata": {},
   "source": [
    "## 🧪 Feature Engineering"
   ]
  },
  {
   "cell_type": "code",
   "execution_count": null,
   "id": "be658ce2",
   "metadata": {},
   "outputs": [],
   "source": [
    "# Text Vectorization\n",
    "tfidf = TfidfVectorizer()\n",
    "X_text = tfidf.fit_transform(df['review_text'])\n",
    "\n",
    "# Combine numerical features\n",
    "X_numerical = df[['n_votes', 'n_comments', 'average_rating']].values\n",
    "\n",
    "# Combine all features\n",
    "from scipy.sparse import hstack\n",
    "X_all = hstack([X_text, X_numerical])\n",
    "\n",
    "# Target\n",
    "y = df['liked']"
   ]
  },
  {
   "cell_type": "markdown",
   "id": "590075a9",
   "metadata": {},
   "source": [
    "## 🤖 Modeling"
   ]
  },
  {
   "cell_type": "code",
   "execution_count": null,
   "id": "26b2ba6e",
   "metadata": {},
   "outputs": [],
   "source": [
    "X_train, X_test, y_train, y_test = train_test_split(X_all, y, test_size=0.3, random_state=42)\n",
    "model = LogisticRegression()\n",
    "model.fit(X_train, y_train)\n",
    "y_pred_proba = model.predict_proba(X_test)[:, 1]\n",
    "auc = roc_auc_score(y_test, y_pred_proba)\n",
    "print(f\"AUC Score: {auc:.2f}\")"
   ]
  },
  {
   "cell_type": "markdown",
   "id": "91532f71",
   "metadata": {},
   "source": [
    "## 📈 ROC Curve"
   ]
  },
  {
   "cell_type": "code",
   "execution_count": null,
   "id": "992f3d08",
   "metadata": {},
   "outputs": [],
   "source": [
    "fpr, tpr, _ = roc_curve(y_test, y_pred_proba)\n",
    "plt.figure(figsize=(6,4))\n",
    "plt.plot(fpr, tpr, label=f'AUC = {auc:.2f}')\n",
    "plt.plot([0, 1], [0, 1], 'k--')\n",
    "plt.xlabel(\"False Positive Rate\")\n",
    "plt.ylabel(\"True Positive Rate\")\n",
    "plt.title(\"ROC Curve\")\n",
    "plt.legend()\n",
    "plt.grid(True)\n",
    "plt.show()"
   ]
  }
 ],
 "metadata": {},
 "nbformat": 4,
 "nbformat_minor": 5
}
